{
 "cells": [
  {
   "cell_type": "raw",
   "source": [
    "# CKA_Curriculum_v1.30.pdf\n",
    "\n",
    "[CKA Curriculum](https://github.com/cncf/curriculum/blob/master/CKAD_Curriculum_v1.30.pdf)\n",
    "\n",
    "'''\n",
    "25% Cluster Architecture, Installation and Configuration\n",
    "- Manage RBAC\n",
    "- use kubeadm to install a basic cluster\n",
    "- Manage a highly-available k8s cluster\n",
    "- provision underlying infrastructure to deploy a k8s cluster\n",
    "- perform a version upgrade on a k8s cluster using kubeadm\n",
    "- implement etcd backup and restore\n",
    "\n",
    "15% Workloads & Scheduling\n",
    "- understand deployments and how to perform rolling updates and rollbacks\n",
    "- User ConfigMaps and secrets to configure applications\n",
    "- know how to scale applications\n",
    "- Understand the primitives used to create robust, self-healing application deployments\n",
    "- understand how resource limits can affect pod scheduling\n",
    "- Awareness of manifest management and common templating tools\n",
    "\n",
    "20% Services & Networking\n",
    "- Understand host networking configuration on the cluster nodes\n",
    "- understand connectivity between pods\n",
    "- understand ClusterIP, NodePort, LoadBalancer service types and endpoints\n",
    "- Know how to user ingress controllers and ingress resources\n",
    "- Know how to configure and user CoreDNS\n",
    "- choose an appropriate container network interface plugin\n",
    "\n",
    "10% Storage\n",
    "- understand storage classes, persistent volumes\n",
    "- understand volume mode, access modes and reclaim policies for volumes\n",
    "- understand persistent volume claims primitive\n",
    "- Know how to configure applications with persistent storage\n",
    "\n",
    "30% Troubleshooting\n",
    "- evaluate cluster and node logging\n",
    "- understand how to monitor applications\n",
    "- Manage container stdout and stderr logs\n",
    "- Troubleshoot application failure\n",
    "- Troubleshoot cluster component failure\n",
    "- Troubleshoot networking\n",
    "'''"
   ],
   "metadata": {
    "collapsed": false
   },
   "id": "ef1cb93d99d44e8b"
  },
  {
   "cell_type": "code",
   "execution_count": null,
   "outputs": [],
   "source": [
    "# k8s basics\n",
    "'''\n",
    "https://kubernetes.io/docs/tutorials/kubernetes-basics/deploy-app/deploy-intro/\n",
    "\n",
    "\n",
    "'''"
   ],
   "metadata": {
    "collapsed": false
   },
   "id": "d26e7467ccc660e3"
  }
 ],
 "metadata": {
  "kernelspec": {
   "display_name": "Python 3",
   "language": "python",
   "name": "python3"
  },
  "language_info": {
   "codemirror_mode": {
    "name": "ipython",
    "version": 2
   },
   "file_extension": ".py",
   "mimetype": "text/x-python",
   "name": "python",
   "nbconvert_exporter": "python",
   "pygments_lexer": "ipython2",
   "version": "2.7.6"
  }
 },
 "nbformat": 4,
 "nbformat_minor": 5
}
